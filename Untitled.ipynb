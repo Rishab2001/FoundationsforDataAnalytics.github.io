{
 "cells": [
  {
   "cell_type": "markdown",
   "metadata": {},
   "source": [
    "# Understanding Basic Data Types And Structures"
   ]
  },
  {
   "cell_type": "markdown",
   "metadata": {},
   "source": [
    "## In R programming everything is an Object"
   ]
  },
  {
   "cell_type": "markdown",
   "metadata": {},
   "source": [
    "## R has 6 Data Types:\n",
    "### 1.Character\n",
    "### 2.Numeric\n",
    "### 3.Integer\n",
    "### 4.Logical\n",
    "### 5.Complex"
   ]
  },
  {
   "cell_type": "code",
   "execution_count": 1,
   "metadata": {},
   "outputs": [],
   "source": [
    "#Elemets of these data types may be combined to form Data Structures such as atomic vectors."
   ]
  },
  {
   "cell_type": "code",
   "execution_count": 2,
   "metadata": {},
   "outputs": [],
   "source": [
    "#Examples for data types"
   ]
  },
  {
   "cell_type": "code",
   "execution_count": 5,
   "metadata": {},
   "outputs": [],
   "source": [
    "# character : \"a\",\"swc\"\n",
    "# numeric : 2 , 15.5\n",
    "# integer : 2L  #L tells R to store this is an integer.\n",
    "# logical : TRUE , FALSE\n",
    "# complex : 1+4i #Complex numbers with real and imaginary part."
   ]
  },
  {
   "cell_type": "code",
   "execution_count": 6,
   "metadata": {},
   "outputs": [],
   "source": [
    "#Functions that R rovide to examine features of vectors :"
   ]
  },
  {
   "cell_type": "code",
   "execution_count": 7,
   "metadata": {},
   "outputs": [],
   "source": [
    "# class() : What kind of object is it(high-level)?\n",
    "# typeof(): Ehat is the objects data type(low - level)?\n",
    "# length() : How long is it? What about Two dimensional objects.\n",
    "# attributes() : does it have any metadata"
   ]
  },
  {
   "cell_type": "markdown",
   "metadata": {},
   "source": [
    "### Example"
   ]
  },
  {
   "cell_type": "code",
   "execution_count": 9,
   "metadata": {},
   "outputs": [
    {
     "data": {
      "text/html": [
       "'character'"
      ],
      "text/latex": [
       "'character'"
      ],
      "text/markdown": [
       "'character'"
      ],
      "text/plain": [
       "[1] \"character\""
      ]
     },
     "metadata": {},
     "output_type": "display_data"
    }
   ],
   "source": [
    "x=\"dataset\"\n",
    "typeof(x)"
   ]
  },
  {
   "cell_type": "code",
   "execution_count": 10,
   "metadata": {},
   "outputs": [
    {
     "data": {
      "text/html": [
       "'character'"
      ],
      "text/latex": [
       "'character'"
      ],
      "text/markdown": [
       "'character'"
      ],
      "text/plain": [
       "[1] \"character\""
      ]
     },
     "metadata": {},
     "output_type": "display_data"
    },
    {
     "data": {
      "text/html": [
       "1"
      ],
      "text/latex": [
       "1"
      ],
      "text/markdown": [
       "1"
      ],
      "text/plain": [
       "[1] 1"
      ]
     },
     "metadata": {},
     "output_type": "display_data"
    },
    {
     "data": {
      "text/plain": [
       "NULL"
      ]
     },
     "metadata": {},
     "output_type": "display_data"
    }
   ],
   "source": [
    "class(x)\n",
    "length(x)\n",
    "attributes(x)"
   ]
  },
  {
   "cell_type": "markdown",
   "metadata": {},
   "source": [
    "### Creating A vector"
   ]
  },
  {
   "cell_type": "code",
   "execution_count": 12,
   "metadata": {},
   "outputs": [
    {
     "data": {
      "text/html": [
       "'integer'"
      ],
      "text/latex": [
       "'integer'"
      ],
      "text/markdown": [
       "'integer'"
      ],
      "text/plain": [
       "[1] \"integer\""
      ]
     },
     "metadata": {},
     "output_type": "display_data"
    },
    {
     "data": {
      "text/html": [
       "'integer'"
      ],
      "text/latex": [
       "'integer'"
      ],
      "text/markdown": [
       "'integer'"
      ],
      "text/plain": [
       "[1] \"integer\""
      ]
     },
     "metadata": {},
     "output_type": "display_data"
    },
    {
     "data": {
      "text/html": [
       "10"
      ],
      "text/latex": [
       "10"
      ],
      "text/markdown": [
       "10"
      ],
      "text/plain": [
       "[1] 10"
      ]
     },
     "metadata": {},
     "output_type": "display_data"
    },
    {
     "data": {
      "text/plain": [
       "NULL"
      ]
     },
     "metadata": {},
     "output_type": "display_data"
    }
   ],
   "source": [
    "y=1:10\n",
    "typeof(y)\n",
    "class(y)\n",
    "length(y)\n",
    "attributes(y)"
   ]
  },
  {
   "cell_type": "markdown",
   "metadata": {},
   "source": [
    "### To create a logical variable"
   ]
  },
  {
   "cell_type": "code",
   "execution_count": 13,
   "metadata": {},
   "outputs": [
    {
     "data": {
      "text/html": [
       "'logical'"
      ],
      "text/latex": [
       "'logical'"
      ],
      "text/markdown": [
       "'logical'"
      ],
      "text/plain": [
       "[1] \"logical\""
      ]
     },
     "metadata": {},
     "output_type": "display_data"
    },
    {
     "data": {
      "text/html": [
       "'logical'"
      ],
      "text/latex": [
       "'logical'"
      ],
      "text/markdown": [
       "'logical'"
      ],
      "text/plain": [
       "[1] \"logical\""
      ]
     },
     "metadata": {},
     "output_type": "display_data"
    },
    {
     "data": {
      "text/html": [
       "1"
      ],
      "text/latex": [
       "1"
      ],
      "text/markdown": [
       "1"
      ],
      "text/plain": [
       "[1] 1"
      ]
     },
     "metadata": {},
     "output_type": "display_data"
    }
   ],
   "source": [
    "a=TRUE\n",
    "class(a)\n",
    "typeof(a)\n",
    "length(a)"
   ]
  },
  {
   "cell_type": "code",
   "execution_count": 14,
   "metadata": {},
   "outputs": [
    {
     "data": {
      "text/html": [
       "'complex'"
      ],
      "text/latex": [
       "'complex'"
      ],
      "text/markdown": [
       "'complex'"
      ],
      "text/plain": [
       "[1] \"complex\""
      ]
     },
     "metadata": {},
     "output_type": "display_data"
    },
    {
     "data": {
      "text/html": [
       "1"
      ],
      "text/latex": [
       "1"
      ],
      "text/markdown": [
       "1"
      ],
      "text/plain": [
       "[1] 1"
      ]
     },
     "metadata": {},
     "output_type": "display_data"
    },
    {
     "data": {
      "text/plain": [
       "NULL"
      ]
     },
     "metadata": {},
     "output_type": "display_data"
    },
    {
     "data": {
      "text/html": [
       "'complex'"
      ],
      "text/latex": [
       "'complex'"
      ],
      "text/markdown": [
       "'complex'"
      ],
      "text/plain": [
       "[1] \"complex\""
      ]
     },
     "metadata": {},
     "output_type": "display_data"
    }
   ],
   "source": [
    "a=2+3i\n",
    "class(a)\n",
    "length(a)\n",
    "attributes(a)\n",
    "typeof(a)"
   ]
  },
  {
   "cell_type": "markdown",
   "metadata": {},
   "source": [
    "### Creating a numeric vector"
   ]
  },
  {
   "cell_type": "code",
   "execution_count": 15,
   "metadata": {},
   "outputs": [
    {
     "data": {
      "text/html": [
       "<ol class=list-inline>\n",
       "\t<li>12</li>\n",
       "\t<li>23</li>\n",
       "\t<li>34</li>\n",
       "\t<li>35</li>\n",
       "</ol>\n"
      ],
      "text/latex": [
       "\\begin{enumerate*}\n",
       "\\item 12\n",
       "\\item 23\n",
       "\\item 34\n",
       "\\item 35\n",
       "\\end{enumerate*}\n"
      ],
      "text/markdown": [
       "1. 12\n",
       "2. 23\n",
       "3. 34\n",
       "4. 35\n",
       "\n",
       "\n"
      ],
      "text/plain": [
       "[1] 12 23 34 35"
      ]
     },
     "metadata": {},
     "output_type": "display_data"
    }
   ],
   "source": [
    "a=c(12,23,34,35)  #C is used to denote a vector\n",
    "a"
   ]
  },
  {
   "cell_type": "markdown",
   "metadata": {},
   "source": [
    "### create a character vector"
   ]
  },
  {
   "cell_type": "code",
   "execution_count": 16,
   "metadata": {},
   "outputs": [
    {
     "data": {
      "text/html": [
       "<ol class=list-inline>\n",
       "\t<li>'one'</li>\n",
       "\t<li>'Two'</li>\n",
       "\t<li>'Three'</li>\n",
       "\t<li>'Four'</li>\n",
       "</ol>\n"
      ],
      "text/latex": [
       "\\begin{enumerate*}\n",
       "\\item 'one'\n",
       "\\item 'Two'\n",
       "\\item 'Three'\n",
       "\\item 'Four'\n",
       "\\end{enumerate*}\n"
      ],
      "text/markdown": [
       "1. 'one'\n",
       "2. 'Two'\n",
       "3. 'Three'\n",
       "4. 'Four'\n",
       "\n",
       "\n"
      ],
      "text/plain": [
       "[1] \"one\"   \"Two\"   \"Three\" \"Four\" "
      ]
     },
     "metadata": {},
     "output_type": "display_data"
    }
   ],
   "source": [
    "b=c(\"one\",\"Two\",\"Three\",\"Four\")\n",
    "b"
   ]
  },
  {
   "cell_type": "markdown",
   "metadata": {},
   "source": [
    "### Create a logical vector"
   ]
  },
  {
   "cell_type": "code",
   "execution_count": 18,
   "metadata": {},
   "outputs": [
    {
     "data": {
      "text/html": [
       "<ol class=list-inline>\n",
       "\t<li>TRUE</li>\n",
       "\t<li>FALSE</li>\n",
       "\t<li>FALSE</li>\n",
       "\t<li>TRUE</li>\n",
       "</ol>\n"
      ],
      "text/latex": [
       "\\begin{enumerate*}\n",
       "\\item TRUE\n",
       "\\item FALSE\n",
       "\\item FALSE\n",
       "\\item TRUE\n",
       "\\end{enumerate*}\n"
      ],
      "text/markdown": [
       "1. TRUE\n",
       "2. FALSE\n",
       "3. FALSE\n",
       "4. TRUE\n",
       "\n",
       "\n"
      ],
      "text/plain": [
       "[1]  TRUE FALSE FALSE  TRUE"
      ]
     },
     "metadata": {},
     "output_type": "display_data"
    }
   ],
   "source": [
    "c=c(TRUE,FALSE,FALSE,TRUE)\n",
    "c"
   ]
  },
  {
   "cell_type": "markdown",
   "metadata": {},
   "source": [
    "### Create a complex vector"
   ]
  },
  {
   "cell_type": "code",
   "execution_count": 19,
   "metadata": {},
   "outputs": [
    {
     "data": {
      "text/html": [
       "<ol class=list-inline>\n",
       "\t<li>1+2i</li>\n",
       "\t<li>2+3i</li>\n",
       "\t<li>5+5i</li>\n",
       "\t<li>5+9i</li>\n",
       "</ol>\n"
      ],
      "text/latex": [
       "\\begin{enumerate*}\n",
       "\\item 1+2i\n",
       "\\item 2+3i\n",
       "\\item 5+5i\n",
       "\\item 5+9i\n",
       "\\end{enumerate*}\n"
      ],
      "text/markdown": [
       "1. 1+2i\n",
       "2. 2+3i\n",
       "3. 5+5i\n",
       "4. 5+9i\n",
       "\n",
       "\n"
      ],
      "text/plain": [
       "[1] 1+2i 2+3i 5+5i 5+9i"
      ]
     },
     "metadata": {},
     "output_type": "display_data"
    }
   ],
   "source": [
    "d=c(1+2i,2+3i,5+5i,5+9i)\n",
    "d"
   ]
  },
  {
   "cell_type": "markdown",
   "metadata": {},
   "source": [
    "### Vectorized Operations"
   ]
  },
  {
   "cell_type": "code",
   "execution_count": 20,
   "metadata": {},
   "outputs": [
    {
     "data": {
      "text/html": [
       "<ol class=list-inline>\n",
       "\t<li>24</li>\n",
       "\t<li>46</li>\n",
       "\t<li>68</li>\n",
       "\t<li>70</li>\n",
       "</ol>\n"
      ],
      "text/latex": [
       "\\begin{enumerate*}\n",
       "\\item 24\n",
       "\\item 46\n",
       "\\item 68\n",
       "\\item 70\n",
       "\\end{enumerate*}\n"
      ],
      "text/markdown": [
       "1. 24\n",
       "2. 46\n",
       "3. 68\n",
       "4. 70\n",
       "\n",
       "\n"
      ],
      "text/plain": [
       "[1] 24 46 68 70"
      ]
     },
     "metadata": {},
     "output_type": "display_data"
    },
    {
     "data": {
      "text/html": [
       "<ol class=list-inline>\n",
       "\t<li>14</li>\n",
       "\t<li>25</li>\n",
       "\t<li>36</li>\n",
       "\t<li>37</li>\n",
       "</ol>\n"
      ],
      "text/latex": [
       "\\begin{enumerate*}\n",
       "\\item 14\n",
       "\\item 25\n",
       "\\item 36\n",
       "\\item 37\n",
       "\\end{enumerate*}\n"
      ],
      "text/markdown": [
       "1. 14\n",
       "2. 25\n",
       "3. 36\n",
       "4. 37\n",
       "\n",
       "\n"
      ],
      "text/plain": [
       "[1] 14 25 36 37"
      ]
     },
     "metadata": {},
     "output_type": "display_data"
    }
   ],
   "source": [
    "a*2\n",
    "a+2"
   ]
  },
  {
   "cell_type": "code",
   "execution_count": 22,
   "metadata": {},
   "outputs": [
    {
     "data": {
      "text/html": [
       "<ol class=list-inline>\n",
       "\t<li>12</li>\n",
       "\t<li>23</li>\n",
       "\t<li>34</li>\n",
       "\t<li>35</li>\n",
       "</ol>\n"
      ],
      "text/latex": [
       "\\begin{enumerate*}\n",
       "\\item 12\n",
       "\\item 23\n",
       "\\item 34\n",
       "\\item 35\n",
       "\\end{enumerate*}\n"
      ],
      "text/markdown": [
       "1. 12\n",
       "2. 23\n",
       "3. 34\n",
       "4. 35\n",
       "\n",
       "\n"
      ],
      "text/plain": [
       "[1] 12 23 34 35"
      ]
     },
     "metadata": {},
     "output_type": "display_data"
    }
   ],
   "source": [
    "a       #The value of a is not changed becoz there is no assignment operator used."
   ]
  },
  {
   "cell_type": "code",
   "execution_count": 23,
   "metadata": {},
   "outputs": [
    {
     "data": {
      "text/html": [
       "<ol class=list-inline>\n",
       "\t<li>1</li>\n",
       "\t<li>2</li>\n",
       "\t<li>3</li>\n",
       "\t<li>4</li>\n",
       "\t<li>5</li>\n",
       "\t<li>6</li>\n",
       "\t<li>7</li>\n",
       "\t<li>8</li>\n",
       "\t<li>9</li>\n",
       "\t<li>10</li>\n",
       "\t<li>11</li>\n",
       "\t<li>12</li>\n",
       "\t<li>13</li>\n",
       "\t<li>14</li>\n",
       "\t<li>15</li>\n",
       "\t<li>16</li>\n",
       "\t<li>17</li>\n",
       "\t<li>18</li>\n",
       "\t<li>19</li>\n",
       "\t<li>20</li>\n",
       "</ol>\n"
      ],
      "text/latex": [
       "\\begin{enumerate*}\n",
       "\\item 1\n",
       "\\item 2\n",
       "\\item 3\n",
       "\\item 4\n",
       "\\item 5\n",
       "\\item 6\n",
       "\\item 7\n",
       "\\item 8\n",
       "\\item 9\n",
       "\\item 10\n",
       "\\item 11\n",
       "\\item 12\n",
       "\\item 13\n",
       "\\item 14\n",
       "\\item 15\n",
       "\\item 16\n",
       "\\item 17\n",
       "\\item 18\n",
       "\\item 19\n",
       "\\item 20\n",
       "\\end{enumerate*}\n"
      ],
      "text/markdown": [
       "1. 1\n",
       "2. 2\n",
       "3. 3\n",
       "4. 4\n",
       "5. 5\n",
       "6. 6\n",
       "7. 7\n",
       "8. 8\n",
       "9. 9\n",
       "10. 10\n",
       "11. 11\n",
       "12. 12\n",
       "13. 13\n",
       "14. 14\n",
       "15. 15\n",
       "16. 16\n",
       "17. 17\n",
       "18. 18\n",
       "19. 19\n",
       "20. 20\n",
       "\n",
       "\n"
      ],
      "text/plain": [
       " [1]  1  2  3  4  5  6  7  8  9 10 11 12 13 14 15 16 17 18 19 20"
      ]
     },
     "metadata": {},
     "output_type": "display_data"
    }
   ],
   "source": [
    "a=1:20\n",
    "a"
   ]
  },
  {
   "cell_type": "code",
   "execution_count": 31,
   "metadata": {},
   "outputs": [
    {
     "data": {
      "text/html": [
       "<ol class=list-inline>\n",
       "\t<li>1</li>\n",
       "\t<li>2</li>\n",
       "\t<li>3</li>\n",
       "\t<li>4</li>\n",
       "\t<li>5</li>\n",
       "\t<li>6</li>\n",
       "\t<li>7</li>\n",
       "\t<li>8</li>\n",
       "\t<li>9</li>\n",
       "\t<li>10</li>\n",
       "\t<li>11</li>\n",
       "\t<li>12</li>\n",
       "\t<li>13</li>\n",
       "\t<li>14</li>\n",
       "\t<li>15</li>\n",
       "\t<li>16</li>\n",
       "\t<li>17</li>\n",
       "\t<li>18</li>\n",
       "\t<li>19</li>\n",
       "\t<li>20</li>\n",
       "\t<li>21</li>\n",
       "\t<li>22</li>\n",
       "\t<li>23</li>\n",
       "\t<li>24</li>\n",
       "\t<li>25</li>\n",
       "\t<li>26</li>\n",
       "\t<li>27</li>\n",
       "\t<li>28</li>\n",
       "\t<li>29</li>\n",
       "\t<li>30</li>\n",
       "\t<li>31</li>\n",
       "\t<li>32</li>\n",
       "\t<li>33</li>\n",
       "\t<li>34</li>\n",
       "\t<li>35</li>\n",
       "\t<li>36</li>\n",
       "\t<li>37</li>\n",
       "\t<li>38</li>\n",
       "\t<li>39</li>\n",
       "\t<li>40</li>\n",
       "\t<li>41</li>\n",
       "\t<li>42</li>\n",
       "\t<li>43</li>\n",
       "\t<li>44</li>\n",
       "\t<li>45</li>\n",
       "\t<li>46</li>\n",
       "\t<li>47</li>\n",
       "\t<li>48</li>\n",
       "\t<li>49</li>\n",
       "\t<li>50</li>\n",
       "\t<li>51</li>\n",
       "\t<li>52</li>\n",
       "\t<li>53</li>\n",
       "\t<li>54</li>\n",
       "\t<li>55</li>\n",
       "\t<li>56</li>\n",
       "\t<li>57</li>\n",
       "\t<li>58</li>\n",
       "\t<li>59</li>\n",
       "\t<li>60</li>\n",
       "\t<li>61</li>\n",
       "\t<li>62</li>\n",
       "\t<li>63</li>\n",
       "\t<li>64</li>\n",
       "\t<li>65</li>\n",
       "\t<li>66</li>\n",
       "\t<li>67</li>\n",
       "\t<li>68</li>\n",
       "\t<li>69</li>\n",
       "\t<li>70</li>\n",
       "\t<li>71</li>\n",
       "\t<li>72</li>\n",
       "\t<li>73</li>\n",
       "\t<li>74</li>\n",
       "\t<li>75</li>\n",
       "\t<li>76</li>\n",
       "\t<li>77</li>\n",
       "\t<li>78</li>\n",
       "\t<li>79</li>\n",
       "\t<li>80</li>\n",
       "\t<li>81</li>\n",
       "\t<li>82</li>\n",
       "\t<li>83</li>\n",
       "\t<li>84</li>\n",
       "\t<li>85</li>\n",
       "\t<li>86</li>\n",
       "\t<li>87</li>\n",
       "\t<li>88</li>\n",
       "\t<li>89</li>\n",
       "\t<li>90</li>\n",
       "\t<li>91</li>\n",
       "\t<li>92</li>\n",
       "\t<li>93</li>\n",
       "\t<li>94</li>\n",
       "\t<li>95</li>\n",
       "\t<li>96</li>\n",
       "\t<li>97</li>\n",
       "\t<li>98</li>\n",
       "\t<li>99</li>\n",
       "\t<li>100</li>\n",
       "\t<li>101</li>\n",
       "\t<li>102</li>\n",
       "\t<li>103</li>\n",
       "\t<li>104</li>\n",
       "\t<li>105</li>\n",
       "\t<li>106</li>\n",
       "\t<li>107</li>\n",
       "\t<li>108</li>\n",
       "\t<li>109</li>\n",
       "\t<li>110</li>\n",
       "\t<li>111</li>\n",
       "\t<li>112</li>\n",
       "\t<li>113</li>\n",
       "\t<li>114</li>\n",
       "\t<li>115</li>\n",
       "\t<li>116</li>\n",
       "\t<li>117</li>\n",
       "\t<li>118</li>\n",
       "\t<li>119</li>\n",
       "\t<li>120</li>\n",
       "\t<li>121</li>\n",
       "\t<li>122</li>\n",
       "\t<li>123</li>\n",
       "\t<li>124</li>\n",
       "\t<li>125</li>\n",
       "\t<li>126</li>\n",
       "\t<li>127</li>\n",
       "\t<li>128</li>\n",
       "\t<li>129</li>\n",
       "\t<li>130</li>\n",
       "\t<li>131</li>\n",
       "\t<li>132</li>\n",
       "\t<li>133</li>\n",
       "\t<li>134</li>\n",
       "\t<li>135</li>\n",
       "\t<li>136</li>\n",
       "\t<li>137</li>\n",
       "\t<li>138</li>\n",
       "\t<li>139</li>\n",
       "\t<li>140</li>\n",
       "\t<li>141</li>\n",
       "\t<li>142</li>\n",
       "\t<li>143</li>\n",
       "\t<li>144</li>\n",
       "\t<li>145</li>\n",
       "\t<li>146</li>\n",
       "\t<li>147</li>\n",
       "\t<li>148</li>\n",
       "\t<li>149</li>\n",
       "\t<li>150</li>\n",
       "\t<li>151</li>\n",
       "\t<li>152</li>\n",
       "\t<li>153</li>\n",
       "\t<li>154</li>\n",
       "\t<li>155</li>\n",
       "\t<li>156</li>\n",
       "\t<li>157</li>\n",
       "\t<li>158</li>\n",
       "\t<li>159</li>\n",
       "\t<li>160</li>\n",
       "\t<li>161</li>\n",
       "\t<li>162</li>\n",
       "\t<li>163</li>\n",
       "\t<li>164</li>\n",
       "\t<li>165</li>\n",
       "\t<li>166</li>\n",
       "\t<li>167</li>\n",
       "\t<li>168</li>\n",
       "\t<li>169</li>\n",
       "\t<li>170</li>\n",
       "\t<li>171</li>\n",
       "\t<li>172</li>\n",
       "\t<li>173</li>\n",
       "\t<li>174</li>\n",
       "\t<li>175</li>\n",
       "\t<li>176</li>\n",
       "\t<li>177</li>\n",
       "\t<li>178</li>\n",
       "\t<li>179</li>\n",
       "\t<li>180</li>\n",
       "\t<li>181</li>\n",
       "\t<li>182</li>\n",
       "\t<li>183</li>\n",
       "\t<li>184</li>\n",
       "\t<li>185</li>\n",
       "\t<li>186</li>\n",
       "\t<li>187</li>\n",
       "\t<li>188</li>\n",
       "\t<li>189</li>\n",
       "\t<li>190</li>\n",
       "\t<li>191</li>\n",
       "\t<li>192</li>\n",
       "\t<li>193</li>\n",
       "\t<li>194</li>\n",
       "\t<li>195</li>\n",
       "\t<li>196</li>\n",
       "\t<li>197</li>\n",
       "\t<li>198</li>\n",
       "\t<li>199</li>\n",
       "\t<li>200</li>\n",
       "</ol>\n"
      ],
      "text/latex": [
       "\\begin{enumerate*}\n",
       "\\item 1\n",
       "\\item 2\n",
       "\\item 3\n",
       "\\item 4\n",
       "\\item 5\n",
       "\\item 6\n",
       "\\item 7\n",
       "\\item 8\n",
       "\\item 9\n",
       "\\item 10\n",
       "\\item 11\n",
       "\\item 12\n",
       "\\item 13\n",
       "\\item 14\n",
       "\\item 15\n",
       "\\item 16\n",
       "\\item 17\n",
       "\\item 18\n",
       "\\item 19\n",
       "\\item 20\n",
       "\\item 21\n",
       "\\item 22\n",
       "\\item 23\n",
       "\\item 24\n",
       "\\item 25\n",
       "\\item 26\n",
       "\\item 27\n",
       "\\item 28\n",
       "\\item 29\n",
       "\\item 30\n",
       "\\item 31\n",
       "\\item 32\n",
       "\\item 33\n",
       "\\item 34\n",
       "\\item 35\n",
       "\\item 36\n",
       "\\item 37\n",
       "\\item 38\n",
       "\\item 39\n",
       "\\item 40\n",
       "\\item 41\n",
       "\\item 42\n",
       "\\item 43\n",
       "\\item 44\n",
       "\\item 45\n",
       "\\item 46\n",
       "\\item 47\n",
       "\\item 48\n",
       "\\item 49\n",
       "\\item 50\n",
       "\\item 51\n",
       "\\item 52\n",
       "\\item 53\n",
       "\\item 54\n",
       "\\item 55\n",
       "\\item 56\n",
       "\\item 57\n",
       "\\item 58\n",
       "\\item 59\n",
       "\\item 60\n",
       "\\item 61\n",
       "\\item 62\n",
       "\\item 63\n",
       "\\item 64\n",
       "\\item 65\n",
       "\\item 66\n",
       "\\item 67\n",
       "\\item 68\n",
       "\\item 69\n",
       "\\item 70\n",
       "\\item 71\n",
       "\\item 72\n",
       "\\item 73\n",
       "\\item 74\n",
       "\\item 75\n",
       "\\item 76\n",
       "\\item 77\n",
       "\\item 78\n",
       "\\item 79\n",
       "\\item 80\n",
       "\\item 81\n",
       "\\item 82\n",
       "\\item 83\n",
       "\\item 84\n",
       "\\item 85\n",
       "\\item 86\n",
       "\\item 87\n",
       "\\item 88\n",
       "\\item 89\n",
       "\\item 90\n",
       "\\item 91\n",
       "\\item 92\n",
       "\\item 93\n",
       "\\item 94\n",
       "\\item 95\n",
       "\\item 96\n",
       "\\item 97\n",
       "\\item 98\n",
       "\\item 99\n",
       "\\item 100\n",
       "\\item 101\n",
       "\\item 102\n",
       "\\item 103\n",
       "\\item 104\n",
       "\\item 105\n",
       "\\item 106\n",
       "\\item 107\n",
       "\\item 108\n",
       "\\item 109\n",
       "\\item 110\n",
       "\\item 111\n",
       "\\item 112\n",
       "\\item 113\n",
       "\\item 114\n",
       "\\item 115\n",
       "\\item 116\n",
       "\\item 117\n",
       "\\item 118\n",
       "\\item 119\n",
       "\\item 120\n",
       "\\item 121\n",
       "\\item 122\n",
       "\\item 123\n",
       "\\item 124\n",
       "\\item 125\n",
       "\\item 126\n",
       "\\item 127\n",
       "\\item 128\n",
       "\\item 129\n",
       "\\item 130\n",
       "\\item 131\n",
       "\\item 132\n",
       "\\item 133\n",
       "\\item 134\n",
       "\\item 135\n",
       "\\item 136\n",
       "\\item 137\n",
       "\\item 138\n",
       "\\item 139\n",
       "\\item 140\n",
       "\\item 141\n",
       "\\item 142\n",
       "\\item 143\n",
       "\\item 144\n",
       "\\item 145\n",
       "\\item 146\n",
       "\\item 147\n",
       "\\item 148\n",
       "\\item 149\n",
       "\\item 150\n",
       "\\item 151\n",
       "\\item 152\n",
       "\\item 153\n",
       "\\item 154\n",
       "\\item 155\n",
       "\\item 156\n",
       "\\item 157\n",
       "\\item 158\n",
       "\\item 159\n",
       "\\item 160\n",
       "\\item 161\n",
       "\\item 162\n",
       "\\item 163\n",
       "\\item 164\n",
       "\\item 165\n",
       "\\item 166\n",
       "\\item 167\n",
       "\\item 168\n",
       "\\item 169\n",
       "\\item 170\n",
       "\\item 171\n",
       "\\item 172\n",
       "\\item 173\n",
       "\\item 174\n",
       "\\item 175\n",
       "\\item 176\n",
       "\\item 177\n",
       "\\item 178\n",
       "\\item 179\n",
       "\\item 180\n",
       "\\item 181\n",
       "\\item 182\n",
       "\\item 183\n",
       "\\item 184\n",
       "\\item 185\n",
       "\\item 186\n",
       "\\item 187\n",
       "\\item 188\n",
       "\\item 189\n",
       "\\item 190\n",
       "\\item 191\n",
       "\\item 192\n",
       "\\item 193\n",
       "\\item 194\n",
       "\\item 195\n",
       "\\item 196\n",
       "\\item 197\n",
       "\\item 198\n",
       "\\item 199\n",
       "\\item 200\n",
       "\\end{enumerate*}\n"
      ],
      "text/markdown": [
       "1. 1\n",
       "2. 2\n",
       "3. 3\n",
       "4. 4\n",
       "5. 5\n",
       "6. 6\n",
       "7. 7\n",
       "8. 8\n",
       "9. 9\n",
       "10. 10\n",
       "11. 11\n",
       "12. 12\n",
       "13. 13\n",
       "14. 14\n",
       "15. 15\n",
       "16. 16\n",
       "17. 17\n",
       "18. 18\n",
       "19. 19\n",
       "20. 20\n",
       "21. 21\n",
       "22. 22\n",
       "23. 23\n",
       "24. 24\n",
       "25. 25\n",
       "26. 26\n",
       "27. 27\n",
       "28. 28\n",
       "29. 29\n",
       "30. 30\n",
       "31. 31\n",
       "32. 32\n",
       "33. 33\n",
       "34. 34\n",
       "35. 35\n",
       "36. 36\n",
       "37. 37\n",
       "38. 38\n",
       "39. 39\n",
       "40. 40\n",
       "41. 41\n",
       "42. 42\n",
       "43. 43\n",
       "44. 44\n",
       "45. 45\n",
       "46. 46\n",
       "47. 47\n",
       "48. 48\n",
       "49. 49\n",
       "50. 50\n",
       "51. 51\n",
       "52. 52\n",
       "53. 53\n",
       "54. 54\n",
       "55. 55\n",
       "56. 56\n",
       "57. 57\n",
       "58. 58\n",
       "59. 59\n",
       "60. 60\n",
       "61. 61\n",
       "62. 62\n",
       "63. 63\n",
       "64. 64\n",
       "65. 65\n",
       "66. 66\n",
       "67. 67\n",
       "68. 68\n",
       "69. 69\n",
       "70. 70\n",
       "71. 71\n",
       "72. 72\n",
       "73. 73\n",
       "74. 74\n",
       "75. 75\n",
       "76. 76\n",
       "77. 77\n",
       "78. 78\n",
       "79. 79\n",
       "80. 80\n",
       "81. 81\n",
       "82. 82\n",
       "83. 83\n",
       "84. 84\n",
       "85. 85\n",
       "86. 86\n",
       "87. 87\n",
       "88. 88\n",
       "89. 89\n",
       "90. 90\n",
       "91. 91\n",
       "92. 92\n",
       "93. 93\n",
       "94. 94\n",
       "95. 95\n",
       "96. 96\n",
       "97. 97\n",
       "98. 98\n",
       "99. 99\n",
       "100. 100\n",
       "101. 101\n",
       "102. 102\n",
       "103. 103\n",
       "104. 104\n",
       "105. 105\n",
       "106. 106\n",
       "107. 107\n",
       "108. 108\n",
       "109. 109\n",
       "110. 110\n",
       "111. 111\n",
       "112. 112\n",
       "113. 113\n",
       "114. 114\n",
       "115. 115\n",
       "116. 116\n",
       "117. 117\n",
       "118. 118\n",
       "119. 119\n",
       "120. 120\n",
       "121. 121\n",
       "122. 122\n",
       "123. 123\n",
       "124. 124\n",
       "125. 125\n",
       "126. 126\n",
       "127. 127\n",
       "128. 128\n",
       "129. 129\n",
       "130. 130\n",
       "131. 131\n",
       "132. 132\n",
       "133. 133\n",
       "134. 134\n",
       "135. 135\n",
       "136. 136\n",
       "137. 137\n",
       "138. 138\n",
       "139. 139\n",
       "140. 140\n",
       "141. 141\n",
       "142. 142\n",
       "143. 143\n",
       "144. 144\n",
       "145. 145\n",
       "146. 146\n",
       "147. 147\n",
       "148. 148\n",
       "149. 149\n",
       "150. 150\n",
       "151. 151\n",
       "152. 152\n",
       "153. 153\n",
       "154. 154\n",
       "155. 155\n",
       "156. 156\n",
       "157. 157\n",
       "158. 158\n",
       "159. 159\n",
       "160. 160\n",
       "161. 161\n",
       "162. 162\n",
       "163. 163\n",
       "164. 164\n",
       "165. 165\n",
       "166. 166\n",
       "167. 167\n",
       "168. 168\n",
       "169. 169\n",
       "170. 170\n",
       "171. 171\n",
       "172. 172\n",
       "173. 173\n",
       "174. 174\n",
       "175. 175\n",
       "176. 176\n",
       "177. 177\n",
       "178. 178\n",
       "179. 179\n",
       "180. 180\n",
       "181. 181\n",
       "182. 182\n",
       "183. 183\n",
       "184. 184\n",
       "185. 185\n",
       "186. 186\n",
       "187. 187\n",
       "188. 188\n",
       "189. 189\n",
       "190. 190\n",
       "191. 191\n",
       "192. 192\n",
       "193. 193\n",
       "194. 194\n",
       "195. 195\n",
       "196. 196\n",
       "197. 197\n",
       "198. 198\n",
       "199. 199\n",
       "200. 200\n",
       "\n",
       "\n"
      ],
      "text/plain": [
       "  [1]   1   2   3   4   5   6   7   8   9  10  11  12  13  14  15  16  17  18\n",
       " [19]  19  20  21  22  23  24  25  26  27  28  29  30  31  32  33  34  35  36\n",
       " [37]  37  38  39  40  41  42  43  44  45  46  47  48  49  50  51  52  53  54\n",
       " [55]  55  56  57  58  59  60  61  62  63  64  65  66  67  68  69  70  71  72\n",
       " [73]  73  74  75  76  77  78  79  80  81  82  83  84  85  86  87  88  89  90\n",
       " [91]  91  92  93  94  95  96  97  98  99 100 101 102 103 104 105 106 107 108\n",
       "[109] 109 110 111 112 113 114 115 116 117 118 119 120 121 122 123 124 125 126\n",
       "[127] 127 128 129 130 131 132 133 134 135 136 137 138 139 140 141 142 143 144\n",
       "[145] 145 146 147 148 149 150 151 152 153 154 155 156 157 158 159 160 161 162\n",
       "[163] 163 164 165 166 167 168 169 170 171 172 173 174 175 176 177 178 179 180\n",
       "[181] 181 182 183 184 185 186 187 188 189 190 191 192 193 194 195 196 197 198\n",
       "[199] 199 200"
      ]
     },
     "metadata": {},
     "output_type": "display_data"
    },
    {
     "data": {
      "text/html": [
       "<ol class=list-inline>\n",
       "\t<li>2</li>\n",
       "\t<li>4</li>\n",
       "\t<li>6</li>\n",
       "\t<li>8</li>\n",
       "\t<li>10</li>\n",
       "\t<li>12</li>\n",
       "\t<li>14</li>\n",
       "\t<li>16</li>\n",
       "\t<li>18</li>\n",
       "\t<li>20</li>\n",
       "\t<li>22</li>\n",
       "\t<li>24</li>\n",
       "\t<li>26</li>\n",
       "\t<li>28</li>\n",
       "\t<li>30</li>\n",
       "\t<li>32</li>\n",
       "\t<li>34</li>\n",
       "\t<li>36</li>\n",
       "\t<li>38</li>\n",
       "\t<li>40</li>\n",
       "\t<li>42</li>\n",
       "\t<li>44</li>\n",
       "\t<li>46</li>\n",
       "\t<li>48</li>\n",
       "\t<li>50</li>\n",
       "\t<li>52</li>\n",
       "\t<li>54</li>\n",
       "\t<li>56</li>\n",
       "\t<li>58</li>\n",
       "\t<li>60</li>\n",
       "\t<li>62</li>\n",
       "\t<li>64</li>\n",
       "\t<li>66</li>\n",
       "\t<li>68</li>\n",
       "\t<li>70</li>\n",
       "\t<li>72</li>\n",
       "\t<li>74</li>\n",
       "\t<li>76</li>\n",
       "\t<li>78</li>\n",
       "\t<li>80</li>\n",
       "\t<li>82</li>\n",
       "\t<li>84</li>\n",
       "\t<li>86</li>\n",
       "\t<li>88</li>\n",
       "\t<li>90</li>\n",
       "\t<li>92</li>\n",
       "\t<li>94</li>\n",
       "\t<li>96</li>\n",
       "\t<li>98</li>\n",
       "\t<li>100</li>\n",
       "\t<li>102</li>\n",
       "\t<li>104</li>\n",
       "\t<li>106</li>\n",
       "\t<li>108</li>\n",
       "\t<li>110</li>\n",
       "\t<li>112</li>\n",
       "\t<li>114</li>\n",
       "\t<li>116</li>\n",
       "\t<li>118</li>\n",
       "\t<li>120</li>\n",
       "\t<li>122</li>\n",
       "\t<li>124</li>\n",
       "\t<li>126</li>\n",
       "\t<li>128</li>\n",
       "\t<li>130</li>\n",
       "\t<li>132</li>\n",
       "\t<li>134</li>\n",
       "\t<li>136</li>\n",
       "\t<li>138</li>\n",
       "\t<li>140</li>\n",
       "\t<li>142</li>\n",
       "\t<li>144</li>\n",
       "\t<li>146</li>\n",
       "\t<li>148</li>\n",
       "\t<li>150</li>\n",
       "\t<li>152</li>\n",
       "\t<li>154</li>\n",
       "\t<li>156</li>\n",
       "\t<li>158</li>\n",
       "\t<li>160</li>\n",
       "\t<li>162</li>\n",
       "\t<li>164</li>\n",
       "\t<li>166</li>\n",
       "\t<li>168</li>\n",
       "\t<li>170</li>\n",
       "\t<li>172</li>\n",
       "\t<li>174</li>\n",
       "\t<li>176</li>\n",
       "\t<li>178</li>\n",
       "\t<li>180</li>\n",
       "\t<li>182</li>\n",
       "\t<li>184</li>\n",
       "\t<li>186</li>\n",
       "\t<li>188</li>\n",
       "\t<li>190</li>\n",
       "\t<li>192</li>\n",
       "\t<li>194</li>\n",
       "\t<li>196</li>\n",
       "\t<li>198</li>\n",
       "\t<li>200</li>\n",
       "</ol>\n"
      ],
      "text/latex": [
       "\\begin{enumerate*}\n",
       "\\item 2\n",
       "\\item 4\n",
       "\\item 6\n",
       "\\item 8\n",
       "\\item 10\n",
       "\\item 12\n",
       "\\item 14\n",
       "\\item 16\n",
       "\\item 18\n",
       "\\item 20\n",
       "\\item 22\n",
       "\\item 24\n",
       "\\item 26\n",
       "\\item 28\n",
       "\\item 30\n",
       "\\item 32\n",
       "\\item 34\n",
       "\\item 36\n",
       "\\item 38\n",
       "\\item 40\n",
       "\\item 42\n",
       "\\item 44\n",
       "\\item 46\n",
       "\\item 48\n",
       "\\item 50\n",
       "\\item 52\n",
       "\\item 54\n",
       "\\item 56\n",
       "\\item 58\n",
       "\\item 60\n",
       "\\item 62\n",
       "\\item 64\n",
       "\\item 66\n",
       "\\item 68\n",
       "\\item 70\n",
       "\\item 72\n",
       "\\item 74\n",
       "\\item 76\n",
       "\\item 78\n",
       "\\item 80\n",
       "\\item 82\n",
       "\\item 84\n",
       "\\item 86\n",
       "\\item 88\n",
       "\\item 90\n",
       "\\item 92\n",
       "\\item 94\n",
       "\\item 96\n",
       "\\item 98\n",
       "\\item 100\n",
       "\\item 102\n",
       "\\item 104\n",
       "\\item 106\n",
       "\\item 108\n",
       "\\item 110\n",
       "\\item 112\n",
       "\\item 114\n",
       "\\item 116\n",
       "\\item 118\n",
       "\\item 120\n",
       "\\item 122\n",
       "\\item 124\n",
       "\\item 126\n",
       "\\item 128\n",
       "\\item 130\n",
       "\\item 132\n",
       "\\item 134\n",
       "\\item 136\n",
       "\\item 138\n",
       "\\item 140\n",
       "\\item 142\n",
       "\\item 144\n",
       "\\item 146\n",
       "\\item 148\n",
       "\\item 150\n",
       "\\item 152\n",
       "\\item 154\n",
       "\\item 156\n",
       "\\item 158\n",
       "\\item 160\n",
       "\\item 162\n",
       "\\item 164\n",
       "\\item 166\n",
       "\\item 168\n",
       "\\item 170\n",
       "\\item 172\n",
       "\\item 174\n",
       "\\item 176\n",
       "\\item 178\n",
       "\\item 180\n",
       "\\item 182\n",
       "\\item 184\n",
       "\\item 186\n",
       "\\item 188\n",
       "\\item 190\n",
       "\\item 192\n",
       "\\item 194\n",
       "\\item 196\n",
       "\\item 198\n",
       "\\item 200\n",
       "\\end{enumerate*}\n"
      ],
      "text/markdown": [
       "1. 2\n",
       "2. 4\n",
       "3. 6\n",
       "4. 8\n",
       "5. 10\n",
       "6. 12\n",
       "7. 14\n",
       "8. 16\n",
       "9. 18\n",
       "10. 20\n",
       "11. 22\n",
       "12. 24\n",
       "13. 26\n",
       "14. 28\n",
       "15. 30\n",
       "16. 32\n",
       "17. 34\n",
       "18. 36\n",
       "19. 38\n",
       "20. 40\n",
       "21. 42\n",
       "22. 44\n",
       "23. 46\n",
       "24. 48\n",
       "25. 50\n",
       "26. 52\n",
       "27. 54\n",
       "28. 56\n",
       "29. 58\n",
       "30. 60\n",
       "31. 62\n",
       "32. 64\n",
       "33. 66\n",
       "34. 68\n",
       "35. 70\n",
       "36. 72\n",
       "37. 74\n",
       "38. 76\n",
       "39. 78\n",
       "40. 80\n",
       "41. 82\n",
       "42. 84\n",
       "43. 86\n",
       "44. 88\n",
       "45. 90\n",
       "46. 92\n",
       "47. 94\n",
       "48. 96\n",
       "49. 98\n",
       "50. 100\n",
       "51. 102\n",
       "52. 104\n",
       "53. 106\n",
       "54. 108\n",
       "55. 110\n",
       "56. 112\n",
       "57. 114\n",
       "58. 116\n",
       "59. 118\n",
       "60. 120\n",
       "61. 122\n",
       "62. 124\n",
       "63. 126\n",
       "64. 128\n",
       "65. 130\n",
       "66. 132\n",
       "67. 134\n",
       "68. 136\n",
       "69. 138\n",
       "70. 140\n",
       "71. 142\n",
       "72. 144\n",
       "73. 146\n",
       "74. 148\n",
       "75. 150\n",
       "76. 152\n",
       "77. 154\n",
       "78. 156\n",
       "79. 158\n",
       "80. 160\n",
       "81. 162\n",
       "82. 164\n",
       "83. 166\n",
       "84. 168\n",
       "85. 170\n",
       "86. 172\n",
       "87. 174\n",
       "88. 176\n",
       "89. 178\n",
       "90. 180\n",
       "91. 182\n",
       "92. 184\n",
       "93. 186\n",
       "94. 188\n",
       "95. 190\n",
       "96. 192\n",
       "97. 194\n",
       "98. 196\n",
       "99. 198\n",
       "100. 200\n",
       "\n",
       "\n"
      ],
      "text/plain": [
       "  [1]   2   4   6   8  10  12  14  16  18  20  22  24  26  28  30  32  34  36\n",
       " [19]  38  40  42  44  46  48  50  52  54  56  58  60  62  64  66  68  70  72\n",
       " [37]  74  76  78  80  82  84  86  88  90  92  94  96  98 100 102 104 106 108\n",
       " [55] 110 112 114 116 118 120 122 124 126 128 130 132 134 136 138 140 142 144\n",
       " [73] 146 148 150 152 154 156 158 160 162 164 166 168 170 172 174 176 178 180\n",
       " [91] 182 184 186 188 190 192 194 196 198 200"
      ]
     },
     "metadata": {},
     "output_type": "display_data"
    }
   ],
   "source": [
    "a=1:200\n",
    "a\n",
    "a[seq(2,200,2)]"
   ]
  },
  {
   "cell_type": "code",
   "execution_count": null,
   "metadata": {},
   "outputs": [],
   "source": [
    "a=1:200\n",
    "for(val in a)\n",
    "    {\n",
    "    val=val+2\n",
    "}"
   ]
  }
 ],
 "metadata": {
  "kernelspec": {
   "display_name": "R",
   "language": "R",
   "name": "ir"
  },
  "language_info": {
   "codemirror_mode": "r",
   "file_extension": ".r",
   "mimetype": "text/x-r-source",
   "name": "R",
   "pygments_lexer": "r",
   "version": "3.4.4"
  }
 },
 "nbformat": 4,
 "nbformat_minor": 2
}
